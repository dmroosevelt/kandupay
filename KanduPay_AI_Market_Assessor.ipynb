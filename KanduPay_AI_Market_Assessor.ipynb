{
  "nbformat": 4,
  "nbformat_minor": 0,
  "metadata": {
    "colab": {
      "provenance": []
    },
    "kernelspec": {
      "name": "python3",
      "display_name": "Python 3"
    },
    "language_info": {
      "name": "python"
    }
  },
  "cells": [
    {
      "cell_type": "code",
      "execution_count": null,
      "metadata": {
        "id": "wbU_HjAI_xXl"
      },
      "outputs": [],
      "source": [
        "import pandas as pd\n",
        "import numpy as np\n",
        "import tensorflow as tf"
      ]
    },
    {
      "cell_type": "code",
      "source": [
        "dataset = pd.read_csv('WorldbankF.csv')"
      ],
      "metadata": {
        "id": "w57gXZkpr4Aa"
      },
      "execution_count": null,
      "outputs": []
    },
    {
      "cell_type": "code",
      "source": [
        "x = dataset.drop(columns=[\"Mobile sum\"])"
      ],
      "metadata": {
        "id": "kUfXT_oVsdaq"
      },
      "execution_count": null,
      "outputs": []
    },
    {
      "cell_type": "code",
      "source": [
        "y = dataset[\"Mobile sum\"]"
      ],
      "metadata": {
        "id": "W0o5wv2ls73m"
      },
      "execution_count": null,
      "outputs": []
    },
    {
      "cell_type": "code",
      "source": [
        "from sklearn.model_selection import train_test_split\n",
        "x_train, x_test, y_train, y_test = train_test_split(x,y, test_size=0.2)"
      ],
      "metadata": {
        "id": "6MR2lck9tCjL"
      },
      "execution_count": null,
      "outputs": []
    },
    {
      "cell_type": "code",
      "source": [
        "model = tf.keras.models.Sequential()"
      ],
      "metadata": {
        "id": "WI0FPBnSteMS"
      },
      "execution_count": null,
      "outputs": []
    },
    {
      "cell_type": "code",
      "source": [
        "model.add(tf.keras.layers.Dense(256,input_shape=x_train.shape, activation='sigmoid'))\n",
        "model.add(tf.keras.layers.Dense(256,activation='sigmoid'))\n",
        "model.add(tf.keras.layers.Dense(1, activation='sigmoid'))"
      ],
      "metadata": {
        "id": "2dkgGREttnSa"
      },
      "execution_count": null,
      "outputs": []
    },
    {
      "cell_type": "code",
      "source": [
        "print(x_train.shape)\n",
        "print(y_train.shape)"
      ],
      "metadata": {
        "colab": {
          "base_uri": "https://localhost:8080/"
        },
        "id": "V9ul69UQu6JC",
        "outputId": "80635166-8a77-44b4-8ec0-a3a442aeaa0e"
      },
      "execution_count": null,
      "outputs": [
        {
          "output_type": "stream",
          "name": "stdout",
          "text": [
            "(121387, 26)\n",
            "(121387,)\n"
          ]
        }
      ]
    },
    {
      "cell_type": "code",
      "source": [
        "x_train = np.array(x_train)\n",
        "x_train = x_train.reshape((x_train.shape[0], x_train.shape[1], 1))"
      ],
      "metadata": {
        "id": "D9npzEvuvfXT"
      },
      "execution_count": null,
      "outputs": []
    },
    {
      "cell_type": "code",
      "source": [
        "print(x_train.shape)"
      ],
      "metadata": {
        "colab": {
          "base_uri": "https://localhost:8080/"
        },
        "id": "DkA7627ZwEBA",
        "outputId": "84f53be5-c6c8-42cf-e5c1-19c9a6c7cf9c"
      },
      "execution_count": null,
      "outputs": [
        {
          "output_type": "stream",
          "name": "stdout",
          "text": [
            "(121387, 26, 1)\n"
          ]
        }
      ]
    },
    {
      "cell_type": "code",
      "source": [
        "total_elements = x_train.size\n",
        "print(total_elements)"
      ],
      "metadata": {
        "colab": {
          "base_uri": "https://localhost:8080/"
        },
        "id": "gSfI5xBDxSxU",
        "outputId": "c1059743-5184-4880-f908-98b8a7dd0d8d"
      },
      "execution_count": null,
      "outputs": [
        {
          "output_type": "stream",
          "name": "stdout",
          "text": [
            "3156062\n"
          ]
        }
      ]
    },
    {
      "cell_type": "code",
      "source": [
        "expected_shape = (x_train.shape[0], 121387, 26)\n",
        "expected_total_elements = expected_shape[0] * expected_shape[1] * expected_shape[2]\n",
        "print(expected_total_elements)"
      ],
      "metadata": {
        "colab": {
          "base_uri": "https://localhost:8080/"
        },
        "id": "DJ31Ch_HxZgG",
        "outputId": "82fdd691-7032-420a-bc37-c14d740d6481"
      },
      "execution_count": null,
      "outputs": [
        {
          "output_type": "stream",
          "name": "stdout",
          "text": [
            "383104897994\n"
          ]
        }
      ]
    },
    {
      "cell_type": "code",
      "source": [
        "if total_elements != expected_total_elements:\n",
        "    print(\"The desired shape is not compatible with the data\")\n",
        "else:\n",
        "    x_train = x_train.reshape(expected_shape)"
      ],
      "metadata": {
        "colab": {
          "base_uri": "https://localhost:8080/"
        },
        "id": "DJQBQQsGxjbT",
        "outputId": "513732b3-032a-45e6-d27b-f48bd36eb49d"
      },
      "execution_count": null,
      "outputs": [
        {
          "output_type": "stream",
          "name": "stdout",
          "text": [
            "The desired shape is not compatible with the data\n"
          ]
        }
      ]
    },
    {
      "cell_type": "code",
      "source": [
        "x_train_flattened = x_train.reshape(-1)"
      ],
      "metadata": {
        "id": "l7ccSly_x7cy"
      },
      "execution_count": null,
      "outputs": []
    },
    {
      "cell_type": "code",
      "source": [
        "new_shape = (x_train_flattened.size // (121387 * 26), 121387, 26)"
      ],
      "metadata": {
        "id": "HmKseYakx_xR"
      },
      "execution_count": null,
      "outputs": []
    },
    {
      "cell_type": "code",
      "source": [
        "x_train_reshaped = x_train_flattened.reshape(new_shape)"
      ],
      "metadata": {
        "id": "bUtSoncYyCU-"
      },
      "execution_count": null,
      "outputs": []
    },
    {
      "cell_type": "code",
      "source": [
        "print(x_train_reshaped.shape)"
      ],
      "metadata": {
        "colab": {
          "base_uri": "https://localhost:8080/"
        },
        "id": "hkRHlposyC7m",
        "outputId": "b2266a4a-bbfe-4ca3-ead7-c7a681e1723f"
      },
      "execution_count": null,
      "outputs": [
        {
          "output_type": "stream",
          "name": "stdout",
          "text": [
            "(1, 121387, 26)\n"
          ]
        }
      ]
    },
    {
      "cell_type": "code",
      "source": [
        "!pip install tensorflow\n",
        "import tensorflow as tf\n",
        "from tensorflow import keras"
      ],
      "metadata": {
        "colab": {
          "base_uri": "https://localhost:8080/"
        },
        "id": "98dZy0D4wwiR",
        "outputId": "f6146722-c73d-4bd9-a8a9-31c20f431be6"
      },
      "execution_count": null,
      "outputs": [
        {
          "output_type": "stream",
          "name": "stdout",
          "text": [
            "Requirement already satisfied: tensorflow in /usr/local/lib/python3.10/dist-packages (2.15.0)\n",
            "Requirement already satisfied: absl-py>=1.0.0 in /usr/local/lib/python3.10/dist-packages (from tensorflow) (1.4.0)\n",
            "Requirement already satisfied: astunparse>=1.6.0 in /usr/local/lib/python3.10/dist-packages (from tensorflow) (1.6.3)\n",
            "Requirement already satisfied: flatbuffers>=23.5.26 in /usr/local/lib/python3.10/dist-packages (from tensorflow) (24.3.25)\n",
            "Requirement already satisfied: gast!=0.5.0,!=0.5.1,!=0.5.2,>=0.2.1 in /usr/local/lib/python3.10/dist-packages (from tensorflow) (0.5.4)\n",
            "Requirement already satisfied: google-pasta>=0.1.1 in /usr/local/lib/python3.10/dist-packages (from tensorflow) (0.2.0)\n",
            "Requirement already satisfied: h5py>=2.9.0 in /usr/local/lib/python3.10/dist-packages (from tensorflow) (3.9.0)\n",
            "Requirement already satisfied: libclang>=13.0.0 in /usr/local/lib/python3.10/dist-packages (from tensorflow) (18.1.1)\n",
            "Requirement already satisfied: ml-dtypes~=0.2.0 in /usr/local/lib/python3.10/dist-packages (from tensorflow) (0.2.0)\n",
            "Requirement already satisfied: numpy<2.0.0,>=1.23.5 in /usr/local/lib/python3.10/dist-packages (from tensorflow) (1.25.2)\n",
            "Requirement already satisfied: opt-einsum>=2.3.2 in /usr/local/lib/python3.10/dist-packages (from tensorflow) (3.3.0)\n",
            "Requirement already satisfied: packaging in /usr/local/lib/python3.10/dist-packages (from tensorflow) (24.0)\n",
            "Requirement already satisfied: protobuf!=4.21.0,!=4.21.1,!=4.21.2,!=4.21.3,!=4.21.4,!=4.21.5,<5.0.0dev,>=3.20.3 in /usr/local/lib/python3.10/dist-packages (from tensorflow) (3.20.3)\n",
            "Requirement already satisfied: setuptools in /usr/local/lib/python3.10/dist-packages (from tensorflow) (67.7.2)\n",
            "Requirement already satisfied: six>=1.12.0 in /usr/local/lib/python3.10/dist-packages (from tensorflow) (1.16.0)\n",
            "Requirement already satisfied: termcolor>=1.1.0 in /usr/local/lib/python3.10/dist-packages (from tensorflow) (2.4.0)\n",
            "Requirement already satisfied: typing-extensions>=3.6.6 in /usr/local/lib/python3.10/dist-packages (from tensorflow) (4.11.0)\n",
            "Requirement already satisfied: wrapt<1.15,>=1.11.0 in /usr/local/lib/python3.10/dist-packages (from tensorflow) (1.14.1)\n",
            "Requirement already satisfied: tensorflow-io-gcs-filesystem>=0.23.1 in /usr/local/lib/python3.10/dist-packages (from tensorflow) (0.36.0)\n",
            "Requirement already satisfied: grpcio<2.0,>=1.24.3 in /usr/local/lib/python3.10/dist-packages (from tensorflow) (1.62.1)\n",
            "Requirement already satisfied: tensorboard<2.16,>=2.15 in /usr/local/lib/python3.10/dist-packages (from tensorflow) (2.15.2)\n",
            "Requirement already satisfied: tensorflow-estimator<2.16,>=2.15.0 in /usr/local/lib/python3.10/dist-packages (from tensorflow) (2.15.0)\n",
            "Requirement already satisfied: keras<2.16,>=2.15.0 in /usr/local/lib/python3.10/dist-packages (from tensorflow) (2.15.0)\n",
            "Requirement already satisfied: wheel<1.0,>=0.23.0 in /usr/local/lib/python3.10/dist-packages (from astunparse>=1.6.0->tensorflow) (0.43.0)\n",
            "Requirement already satisfied: google-auth<3,>=1.6.3 in /usr/local/lib/python3.10/dist-packages (from tensorboard<2.16,>=2.15->tensorflow) (2.27.0)\n",
            "Requirement already satisfied: google-auth-oauthlib<2,>=0.5 in /usr/local/lib/python3.10/dist-packages (from tensorboard<2.16,>=2.15->tensorflow) (1.2.0)\n",
            "Requirement already satisfied: markdown>=2.6.8 in /usr/local/lib/python3.10/dist-packages (from tensorboard<2.16,>=2.15->tensorflow) (3.6)\n",
            "Requirement already satisfied: requests<3,>=2.21.0 in /usr/local/lib/python3.10/dist-packages (from tensorboard<2.16,>=2.15->tensorflow) (2.31.0)\n",
            "Requirement already satisfied: tensorboard-data-server<0.8.0,>=0.7.0 in /usr/local/lib/python3.10/dist-packages (from tensorboard<2.16,>=2.15->tensorflow) (0.7.2)\n",
            "Requirement already satisfied: werkzeug>=1.0.1 in /usr/local/lib/python3.10/dist-packages (from tensorboard<2.16,>=2.15->tensorflow) (3.0.2)\n",
            "Requirement already satisfied: cachetools<6.0,>=2.0.0 in /usr/local/lib/python3.10/dist-packages (from google-auth<3,>=1.6.3->tensorboard<2.16,>=2.15->tensorflow) (5.3.3)\n",
            "Requirement already satisfied: pyasn1-modules>=0.2.1 in /usr/local/lib/python3.10/dist-packages (from google-auth<3,>=1.6.3->tensorboard<2.16,>=2.15->tensorflow) (0.4.0)\n",
            "Requirement already satisfied: rsa<5,>=3.1.4 in /usr/local/lib/python3.10/dist-packages (from google-auth<3,>=1.6.3->tensorboard<2.16,>=2.15->tensorflow) (4.9)\n",
            "Requirement already satisfied: requests-oauthlib>=0.7.0 in /usr/local/lib/python3.10/dist-packages (from google-auth-oauthlib<2,>=0.5->tensorboard<2.16,>=2.15->tensorflow) (1.3.1)\n",
            "Requirement already satisfied: charset-normalizer<4,>=2 in /usr/local/lib/python3.10/dist-packages (from requests<3,>=2.21.0->tensorboard<2.16,>=2.15->tensorflow) (3.3.2)\n",
            "Requirement already satisfied: idna<4,>=2.5 in /usr/local/lib/python3.10/dist-packages (from requests<3,>=2.21.0->tensorboard<2.16,>=2.15->tensorflow) (3.6)\n",
            "Requirement already satisfied: urllib3<3,>=1.21.1 in /usr/local/lib/python3.10/dist-packages (from requests<3,>=2.21.0->tensorboard<2.16,>=2.15->tensorflow) (2.0.7)\n",
            "Requirement already satisfied: certifi>=2017.4.17 in /usr/local/lib/python3.10/dist-packages (from requests<3,>=2.21.0->tensorboard<2.16,>=2.15->tensorflow) (2024.2.2)\n",
            "Requirement already satisfied: MarkupSafe>=2.1.1 in /usr/local/lib/python3.10/dist-packages (from werkzeug>=1.0.1->tensorboard<2.16,>=2.15->tensorflow) (2.1.5)\n",
            "Requirement already satisfied: pyasn1<0.7.0,>=0.4.6 in /usr/local/lib/python3.10/dist-packages (from pyasn1-modules>=0.2.1->google-auth<3,>=1.6.3->tensorboard<2.16,>=2.15->tensorflow) (0.6.0)\n",
            "Requirement already satisfied: oauthlib>=3.0.0 in /usr/local/lib/python3.10/dist-packages (from requests-oauthlib>=0.7.0->google-auth-oauthlib<2,>=0.5->tensorboard<2.16,>=2.15->tensorflow) (3.2.2)\n"
          ]
        }
      ]
    },
    {
      "cell_type": "code",
      "source": [
        "model.compile(optimizer='adam', loss='binary_crossentropy', metrics = ['accuracy'])"
      ],
      "metadata": {
        "id": "aaAf6Ne6uU0F"
      },
      "execution_count": null,
      "outputs": []
    },
    {
      "cell_type": "code",
      "source": [
        "model.fit(x_train,y_train,epochs = 100)"
      ],
      "metadata": {
        "colab": {
          "base_uri": "https://localhost:8080/"
        },
        "id": "BM--ZwFjunry",
        "outputId": "aa13e749-bfae-42ab-d45f-7f0777b75a4b"
      },
      "execution_count": null,
      "outputs": [
        {
          "output_type": "stream",
          "name": "stdout",
          "text": [
            "Epoch 1/100\n",
            "3794/3794 [==============================] - 7s 2ms/step - loss: nan - accuracy: 0.0800\n",
            "Epoch 2/100\n",
            "3794/3794 [==============================] - 6s 1ms/step - loss: nan - accuracy: 0.0800\n",
            "Epoch 3/100\n",
            "3794/3794 [==============================] - 7s 2ms/step - loss: nan - accuracy: 0.0800\n",
            "Epoch 4/100\n",
            "3794/3794 [==============================] - 6s 1ms/step - loss: nan - accuracy: 0.0800\n",
            "Epoch 5/100\n",
            "3794/3794 [==============================] - 7s 2ms/step - loss: nan - accuracy: 0.0800\n",
            "Epoch 6/100\n",
            "3794/3794 [==============================] - 6s 1ms/step - loss: nan - accuracy: 0.0800\n",
            "Epoch 7/100\n",
            "3794/3794 [==============================] - 7s 2ms/step - loss: nan - accuracy: 0.0800\n",
            "Epoch 8/100\n",
            "3794/3794 [==============================] - 6s 1ms/step - loss: nan - accuracy: 0.0800\n",
            "Epoch 9/100\n",
            "3794/3794 [==============================] - 7s 2ms/step - loss: nan - accuracy: 0.0800\n",
            "Epoch 10/100\n",
            "3794/3794 [==============================] - 6s 2ms/step - loss: nan - accuracy: 0.0800\n",
            "Epoch 11/100\n",
            "3794/3794 [==============================] - 7s 2ms/step - loss: nan - accuracy: 0.0800\n",
            "Epoch 12/100\n",
            "3794/3794 [==============================] - 6s 2ms/step - loss: nan - accuracy: 0.0800\n",
            "Epoch 13/100\n",
            "3794/3794 [==============================] - 6s 2ms/step - loss: nan - accuracy: 0.0800\n",
            "Epoch 14/100\n",
            "3794/3794 [==============================] - 6s 2ms/step - loss: nan - accuracy: 0.0800\n",
            "Epoch 15/100\n",
            "3794/3794 [==============================] - 6s 2ms/step - loss: nan - accuracy: 0.0800\n",
            "Epoch 16/100\n",
            "3794/3794 [==============================] - 6s 2ms/step - loss: nan - accuracy: 0.0800\n",
            "Epoch 17/100\n",
            "3794/3794 [==============================] - 6s 2ms/step - loss: nan - accuracy: 0.0800\n",
            "Epoch 18/100\n",
            "3794/3794 [==============================] - 7s 2ms/step - loss: nan - accuracy: 0.0800\n",
            "Epoch 19/100\n",
            "3794/3794 [==============================] - 6s 1ms/step - loss: nan - accuracy: 0.0800\n",
            "Epoch 20/100\n",
            "3794/3794 [==============================] - 6s 2ms/step - loss: nan - accuracy: 0.0800\n",
            "Epoch 21/100\n",
            "3794/3794 [==============================] - 6s 1ms/step - loss: nan - accuracy: 0.0800\n",
            "Epoch 22/100\n",
            "3794/3794 [==============================] - 7s 2ms/step - loss: nan - accuracy: 0.0800\n",
            "Epoch 23/100\n",
            "3794/3794 [==============================] - 6s 1ms/step - loss: nan - accuracy: 0.0800\n",
            "Epoch 24/100\n",
            "3794/3794 [==============================] - 7s 2ms/step - loss: nan - accuracy: 0.0800\n",
            "Epoch 25/100\n",
            "3794/3794 [==============================] - 6s 1ms/step - loss: nan - accuracy: 0.0800\n",
            "Epoch 26/100\n",
            "3794/3794 [==============================] - 6s 2ms/step - loss: nan - accuracy: 0.0800\n",
            "Epoch 27/100\n",
            "3794/3794 [==============================] - 6s 2ms/step - loss: nan - accuracy: 0.0800\n",
            "Epoch 28/100\n",
            "3794/3794 [==============================] - 6s 2ms/step - loss: nan - accuracy: 0.0800\n",
            "Epoch 29/100\n",
            "3794/3794 [==============================] - 6s 2ms/step - loss: nan - accuracy: 0.0800\n",
            "Epoch 30/100\n",
            "3794/3794 [==============================] - 6s 1ms/step - loss: nan - accuracy: 0.0800\n",
            "Epoch 31/100\n",
            "3794/3794 [==============================] - 7s 2ms/step - loss: nan - accuracy: 0.0800\n",
            "Epoch 32/100\n",
            "3794/3794 [==============================] - 6s 1ms/step - loss: nan - accuracy: 0.0800\n",
            "Epoch 33/100\n",
            "3794/3794 [==============================] - 7s 2ms/step - loss: nan - accuracy: 0.0800\n",
            "Epoch 34/100\n",
            "3794/3794 [==============================] - 6s 1ms/step - loss: nan - accuracy: 0.0800\n",
            "Epoch 35/100\n",
            "3794/3794 [==============================] - 6s 2ms/step - loss: nan - accuracy: 0.0800\n",
            "Epoch 36/100\n",
            "3794/3794 [==============================] - 6s 1ms/step - loss: nan - accuracy: 0.0800\n",
            "Epoch 37/100\n",
            "3794/3794 [==============================] - 7s 2ms/step - loss: nan - accuracy: 0.0800\n",
            "Epoch 38/100\n",
            "3794/3794 [==============================] - 6s 1ms/step - loss: nan - accuracy: 0.0800\n",
            "Epoch 39/100\n",
            "3794/3794 [==============================] - 6s 2ms/step - loss: nan - accuracy: 0.0800\n",
            "Epoch 40/100\n",
            "3794/3794 [==============================] - 6s 2ms/step - loss: nan - accuracy: 0.0800\n",
            "Epoch 41/100\n",
            "3794/3794 [==============================] - 6s 1ms/step - loss: nan - accuracy: 0.0800\n",
            "Epoch 42/100\n",
            "3794/3794 [==============================] - 6s 2ms/step - loss: nan - accuracy: 0.0800\n",
            "Epoch 43/100\n",
            "3794/3794 [==============================] - 6s 1ms/step - loss: nan - accuracy: 0.0800\n",
            "Epoch 44/100\n",
            "3794/3794 [==============================] - 7s 2ms/step - loss: nan - accuracy: 0.0800\n",
            "Epoch 45/100\n",
            "3794/3794 [==============================] - 6s 1ms/step - loss: nan - accuracy: 0.0800\n",
            "Epoch 46/100\n",
            "3794/3794 [==============================] - 7s 2ms/step - loss: nan - accuracy: 0.0800\n",
            "Epoch 47/100\n",
            "3794/3794 [==============================] - 6s 1ms/step - loss: nan - accuracy: 0.0800\n",
            "Epoch 48/100\n",
            "3794/3794 [==============================] - 7s 2ms/step - loss: nan - accuracy: 0.0800\n",
            "Epoch 49/100\n",
            "3794/3794 [==============================] - 5s 1ms/step - loss: nan - accuracy: 0.0800\n",
            "Epoch 50/100\n",
            "3794/3794 [==============================] - 7s 2ms/step - loss: nan - accuracy: 0.0800\n",
            "Epoch 51/100\n",
            "3794/3794 [==============================] - 6s 1ms/step - loss: nan - accuracy: 0.0800\n",
            "Epoch 52/100\n",
            "3794/3794 [==============================] - 6s 2ms/step - loss: nan - accuracy: 0.0800\n",
            "Epoch 53/100\n",
            "3794/3794 [==============================] - 6s 2ms/step - loss: nan - accuracy: 0.0800\n",
            "Epoch 54/100\n",
            "3794/3794 [==============================] - 6s 2ms/step - loss: nan - accuracy: 0.0800\n",
            "Epoch 55/100\n",
            "3794/3794 [==============================] - 6s 2ms/step - loss: nan - accuracy: 0.0800\n",
            "Epoch 56/100\n",
            "3794/3794 [==============================] - 5s 1ms/step - loss: nan - accuracy: 0.0800\n",
            "Epoch 57/100\n",
            "3794/3794 [==============================] - 7s 2ms/step - loss: nan - accuracy: 0.0800\n",
            "Epoch 58/100\n",
            "3794/3794 [==============================] - 5s 1ms/step - loss: nan - accuracy: 0.0800\n",
            "Epoch 59/100\n",
            "3794/3794 [==============================] - 7s 2ms/step - loss: nan - accuracy: 0.0800\n",
            "Epoch 60/100\n",
            "3794/3794 [==============================] - 6s 1ms/step - loss: nan - accuracy: 0.0800\n",
            "Epoch 61/100\n",
            "3794/3794 [==============================] - 7s 2ms/step - loss: nan - accuracy: 0.0800\n",
            "Epoch 62/100\n",
            "3794/3794 [==============================] - 5s 1ms/step - loss: nan - accuracy: 0.0800\n",
            "Epoch 63/100\n",
            "3794/3794 [==============================] - 6s 2ms/step - loss: nan - accuracy: 0.0800\n",
            "Epoch 64/100\n",
            "3794/3794 [==============================] - 6s 2ms/step - loss: nan - accuracy: 0.0800\n",
            "Epoch 65/100\n",
            "3794/3794 [==============================] - 6s 2ms/step - loss: nan - accuracy: 0.0800\n",
            "Epoch 66/100\n",
            "3794/3794 [==============================] - 6s 2ms/step - loss: nan - accuracy: 0.0800\n",
            "Epoch 67/100\n",
            "3794/3794 [==============================] - 6s 1ms/step - loss: nan - accuracy: 0.0800\n",
            "Epoch 68/100\n",
            "3794/3794 [==============================] - 7s 2ms/step - loss: nan - accuracy: 0.0800\n",
            "Epoch 69/100\n",
            "3794/3794 [==============================] - 5s 1ms/step - loss: nan - accuracy: 0.0800\n",
            "Epoch 70/100\n",
            "3794/3794 [==============================] - 7s 2ms/step - loss: nan - accuracy: 0.0800\n",
            "Epoch 71/100\n",
            "3794/3794 [==============================] - 6s 1ms/step - loss: nan - accuracy: 0.0800\n",
            "Epoch 72/100\n",
            "3794/3794 [==============================] - 7s 2ms/step - loss: nan - accuracy: 0.0800\n",
            "Epoch 73/100\n",
            "3794/3794 [==============================] - 6s 1ms/step - loss: nan - accuracy: 0.0800\n",
            "Epoch 74/100\n",
            "3794/3794 [==============================] - 7s 2ms/step - loss: nan - accuracy: 0.0800\n",
            "Epoch 75/100\n",
            "3794/3794 [==============================] - 5s 1ms/step - loss: nan - accuracy: 0.0800\n",
            "Epoch 76/100\n",
            "3794/3794 [==============================] - 6s 2ms/step - loss: nan - accuracy: 0.0800\n",
            "Epoch 77/100\n",
            "3794/3794 [==============================] - 6s 2ms/step - loss: nan - accuracy: 0.0800\n",
            "Epoch 78/100\n",
            "3794/3794 [==============================] - 6s 2ms/step - loss: nan - accuracy: 0.0800\n",
            "Epoch 79/100\n",
            "3794/3794 [==============================] - 6s 2ms/step - loss: nan - accuracy: 0.0800\n",
            "Epoch 80/100\n",
            "3794/3794 [==============================] - 5s 1ms/step - loss: nan - accuracy: 0.0800\n",
            "Epoch 81/100\n",
            "3794/3794 [==============================] - 7s 2ms/step - loss: nan - accuracy: 0.0800\n",
            "Epoch 82/100\n",
            "3794/3794 [==============================] - 6s 1ms/step - loss: nan - accuracy: 0.0800\n",
            "Epoch 83/100\n",
            "3794/3794 [==============================] - 7s 2ms/step - loss: nan - accuracy: 0.0800\n",
            "Epoch 84/100\n",
            "3794/3794 [==============================] - 6s 1ms/step - loss: nan - accuracy: 0.0800\n",
            "Epoch 85/100\n",
            "3794/3794 [==============================] - 7s 2ms/step - loss: nan - accuracy: 0.0800\n",
            "Epoch 86/100\n",
            "3794/3794 [==============================] - 6s 1ms/step - loss: nan - accuracy: 0.0800\n",
            "Epoch 87/100\n",
            "3794/3794 [==============================] - 6s 2ms/step - loss: nan - accuracy: 0.0800\n",
            "Epoch 88/100\n",
            "3794/3794 [==============================] - 6s 1ms/step - loss: nan - accuracy: 0.0800\n",
            "Epoch 89/100\n",
            "3794/3794 [==============================] - 6s 2ms/step - loss: nan - accuracy: 0.0800\n",
            "Epoch 90/100\n",
            "3794/3794 [==============================] - 6s 2ms/step - loss: nan - accuracy: 0.0800\n",
            "Epoch 91/100\n",
            "3794/3794 [==============================] - 5s 1ms/step - loss: nan - accuracy: 0.0800\n",
            "Epoch 92/100\n",
            "3794/3794 [==============================] - 7s 2ms/step - loss: nan - accuracy: 0.0800\n",
            "Epoch 93/100\n",
            "3794/3794 [==============================] - 5s 1ms/step - loss: nan - accuracy: 0.0800\n",
            "Epoch 94/100\n",
            "3794/3794 [==============================] - 7s 2ms/step - loss: nan - accuracy: 0.0800\n",
            "Epoch 95/100\n",
            "3794/3794 [==============================] - 5s 1ms/step - loss: nan - accuracy: 0.0800\n",
            "Epoch 96/100\n",
            "3794/3794 [==============================] - 7s 2ms/step - loss: nan - accuracy: 0.0800\n",
            "Epoch 97/100\n",
            "3794/3794 [==============================] - 5s 1ms/step - loss: nan - accuracy: 0.0800\n",
            "Epoch 98/100\n",
            "3794/3794 [==============================] - 6s 2ms/step - loss: nan - accuracy: 0.0800\n",
            "Epoch 99/100\n",
            "3794/3794 [==============================] - 6s 2ms/step - loss: nan - accuracy: 0.0800\n",
            "Epoch 100/100\n",
            "3794/3794 [==============================] - 6s 1ms/step - loss: nan - accuracy: 0.0800\n"
          ]
        },
        {
          "output_type": "execute_result",
          "data": {
            "text/plain": [
              "<keras.src.callbacks.History at 0x7c6b3538ea10>"
            ]
          },
          "metadata": {},
          "execution_count": 65
        }
      ]
    },
    {
      "cell_type": "code",
      "source": [],
      "metadata": {
        "id": "aIvWNQxjuwuT"
      },
      "execution_count": null,
      "outputs": []
    }
  ]
}